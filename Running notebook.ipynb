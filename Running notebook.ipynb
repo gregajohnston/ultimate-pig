{
 "cells": [
  {
   "cell_type": "code",
   "execution_count": 1,
   "metadata": {
    "collapsed": true
   },
   "outputs": [],
   "source": [
    "import random\n",
    "from player import Coward, Simpleton, WiseGuy, Berserker\n",
    "from player import Wizard, BlackWizard, GreyWizard, WhiteWizard\n",
    "\n",
    "import math\n",
    "import random\n",
    "import statistics as st\n",
    "import numpy as np\n",
    "import matplotlib.pyplot as plt"
   ]
  },
  {
   "cell_type": "code",
   "execution_count": 2,
   "metadata": {
    "collapsed": true
   },
   "outputs": [],
   "source": [
    "def return_player_type(integer):\n",
    "    if integer == 1:\n",
    "        return Coward()\n",
    "    if integer == 2:\n",
    "        return Simpleton()\n",
    "    if integer == 3:\n",
    "        return WiseGuy()\n",
    "    if integer == 4:\n",
    "        return Berserker()\n",
    "    if integer == 5:\n",
    "        return BlackWizard()\n",
    "    if integer == 6:\n",
    "        return GreyWizard()\n",
    "    if integer == 7:\n",
    "        return WhiteWizard()"
   ]
  },
  {
   "cell_type": "code",
   "execution_count": 3,
   "metadata": {
    "collapsed": false
   },
   "outputs": [
    {
     "name": "stdout",
     "output_type": "stream",
     "text": [
      "Welcome! Who is playing? Wizard\n",
      "How many turns are we playing? 7\n",
      "How many iterations are we trying? 200\n"
     ]
    }
   ],
   "source": [
    "player = return_player_type(6)\n",
    "print(\"Welcome! Who is playing? {}\".format(player))\n",
    "max_turns = 7\n",
    "print(\"How many turns are we playing? {}\".format(max_turns))\n",
    "iteration = 200\n",
    "print(\"How many iterations are we trying? {}\".format(iteration))\n",
    "iteration_total = []\n",
    "\n",
    "while iteration > 0:\n",
    "    for _ in range(0, max_turns):\n",
    "        while player.make_choice():\n",
    "            roll = random.randint(1, 6)\n",
    "\n",
    "            if roll == 1:\n",
    "                player.turn_points = 0\n",
    "                if isinstance(player, Wizard):\n",
    "                    if isinstance(player, BlackWizard):\n",
    "                         player.choice_map.remove(1)\n",
    "                    else:\n",
    "                        player.choice_map = player.choice_map - 0.01\n",
    "                break\n",
    "\n",
    "                player.turn_points += roll\n",
    "                if isinstance(player, Wizard):\n",
    "                    if isinstance(player, BlackWizard):\n",
    "                        player.choice_map.append(1)\n",
    "                    else:\n",
    "                        if player.choice_map < 0.98:\n",
    "                            player.choice_map = player.choice_map + 0.005\n",
    "                        \n",
    "        player.total += player.turn_points\n",
    "        player.turn_points = 0\n",
    "\n",
    "    iteration -= 1\n",
    "    iteration_total.append(player.total)\n",
    "    player.total = 0\n",
    "\n",
    "data = iteration_total\n",
    "ave = sum(iteration_total)/len(iteration_total)"
   ]
  },
  {
   "cell_type": "code",
   "execution_count": 4,
   "metadata": {
    "collapsed": false
   },
   "outputs": [],
   "source": [
    "X = range(1, len(data)+1)\n",
    "Y = data\n",
    "ave_Y = ave\n",
    "\n",
    "plt.plot(X, Y, color='blue', alpha=.50)\n",
    "plt.plot((0, len(data)), (ave_Y, ave_Y), 'red')\n",
    "# plt.plot(X, ave_Y, color='red', alpha=.50)\n",
    "# plt.xticks(X)\n",
    "plt.xlabel('Runs')\n",
    "plt.ylabel('Final Scores')\n",
    "plt.title('BlackWizard Attempt at Pig Solitaire')\n",
    "plt.show()"
   ]
  },
  {
   "cell_type": "code",
   "execution_count": 7,
   "metadata": {
    "collapsed": true
   },
   "outputs": [],
   "source": []
  },
  {
   "cell_type": "code",
   "execution_count": 15,
   "metadata": {
    "collapsed": false
   },
   "outputs": [],
   "source": []
  },
  {
   "cell_type": "code",
   "execution_count": null,
   "metadata": {
    "collapsed": true
   },
   "outputs": [],
   "source": []
  }
 ],
 "metadata": {
  "kernelspec": {
   "display_name": "Python 3",
   "language": "python",
   "name": "python3"
  },
  "language_info": {
   "codemirror_mode": {
    "name": "ipython",
    "version": 3
   },
   "file_extension": ".py",
   "mimetype": "text/x-python",
   "name": "python",
   "nbconvert_exporter": "python",
   "pygments_lexer": "ipython3",
   "version": "3.5.1"
  }
 },
 "nbformat": 4,
 "nbformat_minor": 0
}
